{
 "cells": [
  {
   "cell_type": "markdown",
   "metadata": {},
   "source": [
    "# Критерій Фрідмана"
   ]
  },
  {
   "cell_type": "markdown",
   "metadata": {},
   "source": [
    "### Теоретичні відомості\n",
    "\n",
    "Критерій Фрідмана (англ. Friedman test) — непараметричний статистичний тест. Його було названо на честь американського економіста Мілтона Фрідмана, який його розробив, і в 1937 році опублікував у журналі Journal of the American Statistical Association. Він є узагальненням критерію Уілкоксона."
   ]
  },
  {
   "cell_type": "markdown",
   "metadata": {},
   "source": [
    "### Опис критерію\n",
    "Критерій Фрідмана застосовується для зіставлення показників, виміряних в трьох або більше умовах на одній і тій же вибірці випробуваних.\n",
    "\n",
    "Критерій дозволяє встановити, що величини показників від умови до умови змінюються, але при цьому не вказує на напрямок змін.Критерій Фрідмана заснований на ранжируванні ряду повторних вимірів для кожного\n",
    "об'єкта вибірки. Потім обчислюється сума рангів для кожного з умов (повторних\n",
    "вимірювань). Якщо виконується статистична гіпотеза про відсутність відмінностей між\n",
    "повторними вимірами, то можна очікувати приблизна рівність сум рангів для цих\n",
    "умов. Чим більше розрізняються залежні вибірки по досліджуваному ознакою, тим більше\n",
    "емпіричне значення критерію Фрідмана."
   ]
  },
  {
   "cell_type": "markdown",
   "metadata": {},
   "source": [
    "### Вимоги до даних\n",
    "\n",
    "1) Залежна змінна має бути безперервною (кількісною).\n",
    "\n",
    "2) Групи є незалежними.\n",
    "\n",
    "3) Залежна змінна має ненормальний розподіл.\n",
    "\n",
    "4) Сбалансований дизайн. В ідеалі, групи мають бути однаковими за розміром."
   ]
  },
  {
   "cell_type": "markdown",
   "metadata": {},
   "source": [
    "### Гіпотеза\n",
    "Гіпотеза, яка перевіряєть даним тестом може бути виражена наступним чином:\n",
    "\n",
    "H0:μ1−μ2=0 («різниця між середніми у незалежних групах за показником, що досліджується рівна 0»)\n",
    "\n",
    "H1:μ1−μ2 ≠ 0 $ («різниця між середніми у незалежних групах за показником, що досліджується не рівна 0»)\n",
    "\n",
    "Тут μ1 - середнє значення змінної в першій групі; μ2 - середнє значення змінної в першій групі."
   ]
  },
  {
   "attachments": {
    "image.png": {
     "image/png": "[encoded data removed]"
    }
   },
   "cell_type": "markdown",
   "metadata": {},
   "source": [
    "### Алгоритм розрахунку\n",
    "\n",
    "1) Ранжуються індивідуальні значення показників (повторні вимірювання) для кожного екземпляра вибірки в порядку убування ознаки (ранжування параметрів кожного рядка).\n",
    "\n",
    "2) Отримані ранги підсумовуються за стовпцями (ранги показників, отриманих за всіма примірниками вибірки при одних і тих же умов).\n",
    "\n",
    "3) Емпіричне значення критерію за формулою:\n",
    "![image.png](attachment:image.png)\n",
    "\n",
    ", де с - кількість умов; п - кількість досліджуваних; Ti - суми рангів по кожній з умов.\n",
    "\n",
    "4) Критичне значення критерію залежить від рівня значущості α і ступеня свободи.\n",
    "\n",
    "5) Нульова гіпотеза не відкидається, якщо критичне значення перевершує емпіричне. В цьому випадку відмінності значень показника в різних умовах можна вважати несуттєвими."
   ]
  },
  {
   "cell_type": "markdown",
   "metadata": {},
   "source": [
    "#### Приклад :\n",
    "\n",
    "\n",
    "Оцінки відношення до покарань визначені для 3-х умов, і питання завдання вимагає перевірки достовірності тенденції в оцінках. Найдоцільніше було б використовувати критерій тенденцій L Пейджа, але кількість випробовуваних n = 16, а критичні значення критерію L визначені тільки для n≤12. Використовуємо критерій Фрідмана.\n",
    "\n",
    "Сформулюємо гіпотези:\n",
    "\n",
    "H0: Випробовувані приблизно в однаковій мірі виправдовують (визнають можливими) тілесні покарання, які їх дитина може отримати від них самих, від бабусі і від виховательки (або вчительки).\n",
    "\n",
    "H1: Випробовувані в різному ступені виправдовують тілесні покарання; які їх дитина може отримати від них самих, від бабусі і від виховательки (або вчительки).\n",
    "\n",
    "Проранжируем оцінки кожного випробуваного по трьом умовам. Ранжування проводиться по рядках, при цьому менша оцінка отримує менший ранг, велика оцінка - найбільший ранг (Табл. наведена нижче )."
   ]
  },
  {
   "cell_type": "raw",
   "metadata": {},
   "source": [
    "Учасники\tУмова 1: \"Я сам\"\t\tУмова 2: \"Бабуся\"\t\tУмова 3: \"Вчителька\"\t\n",
    "\t          Оценка\tРанг\t      Оценка\tРанг\t      Оценка\tРанг\n",
    "    1\t        4\t      3\t            2\t      2\t              1\t      1\n",
    "    2\t        1\t      2\t            1\t      2\t              1\t      2\n",
    "    3\t        5\t      3\t            4\t      1,5             4       1,5\n",
    "    4\t        4\t      3\t            3\t      2\t              2\t      1\n",
    "    5\t        3\t      2,5\t        3\t      2,5\t          2\t      1\n",
    "    6\t        4\t      2\t            5\t      3\t              1\t      1\n",
    "    7\t        3\t      2,5\t        3\t      2,5\t          1\t      1\n",
    "    8\t        5\t      2,5\t        5\t      2,5\t          3\t      1\n",
    "    9\t        6\t      3\t            5\t      2               3\t      1\n",
    "    10\t        2\t      2\t            2\t      2               2\t      2\n",
    "    11\t        6\t      3         \t3\t      2\t              2\t      1\n",
    "    12\t        5\t      3\t            3\t      1\t              4\t      2\n",
    "    13\t        7\t      3\t            5\t      2\t              4\t      1\n",
    "    14\t        5\t      2,5\t        5\t      2,5\t          2\t      1\n",
    "    15\t        5\t      2,5\t        5\t      2,5\t          4\t      1\n",
    "    16\t        6\t      2,5\t        6\t      2,5\t          4\t      1\n",
    "Суми\t        71\t       42\t        60\t      34,5\t          40\t19,5\n",
    "Середні\t           16163\t\t            3,75\t\t              2,5\t\n"
   ]
  },
  {
   "attachments": {
    "image.png": {
     "image/png": "[encoded data removed]"
    }
   },
   "cell_type": "markdown",
   "metadata": {},
   "source": [
    "Як видно з Табл., суми рангів по кожному умові складають: 42; 34,5; 19,5, що в сумі дорівнює 96.\n",
    "\n",
    "Розрахункова сума рангів: \n",
    "\n",
    "![image.png](attachment:image.png)"
   ]
  },
  {
   "attachments": {
    "image.png": {
     "image/png": "[encoded data removed]"
    }
   },
   "cell_type": "markdown",
   "metadata": {},
   "source": [
    " Визначимо емпіричне значення за формулою :\n",
    "![image.png](attachment:image.png)\n"
   ]
  },
  {
   "attachments": {
    "image.png": {
     "image/png": "[encoded data removed]"
    }
   },
   "cell_type": "markdown",
   "metadata": {},
   "source": [
    "\n",
    "![image.png](attachment:image.png)\n"
   ]
  },
  {
   "cell_type": "markdown",
   "metadata": {},
   "source": [
    "У нашому випадку кількість умов з = 3, проте n> 9, тому ми не можемо скористатися таблицями, спеціально розрахованими для критерію χ2r. Нам доведеться зіставляти отримане емпіричне значення з критичними значеннями критерію χ2r. Число ступенів свободи визначаємо за формулою:\n",
    "\n",
    "v = c-1 = 3-1 = 2"
   ]
  },
  {
   "attachments": {
    "image.png": {
     "image/png": "[encoded data removed]"
    }
   },
   "cell_type": "markdown",
   "metadata": {},
   "source": [
    "За Табл. IX Додатка 1 визначаємо критичні значення для v = 2:\n",
    "![image.png](attachment:image.png)\n",
    "\n",
    "![image.png](attachment:image.png)"
   ]
  },
  {
   "cell_type": "markdown",
   "metadata": {},
   "source": [
    "Відповідь: H0 відхиляється. Приймається H1. Випробовувані в різному ступені виправдовують тілесні покарання, які їх дитина може отримати від них самих, від бабусі і від виховательки (вчительки)."
   ]
  },
  {
   "cell_type": "markdown",
   "metadata": {},
   "source": [
    "### Реалізація алгоритму "
   ]
  },
  {
   "cell_type": "markdown",
   "metadata": {},
   "source": [
    "Учасникам подається список слів, кожне слово яких відображається кольором чорнила. Завдання учасника - вимовити вголос колір чорнила, на якому друкується слово. Завдання має дві умови: стан конгруентних слів та стан невідповідних слів. У умові конгруентних слів слова, що відображаються, - це кольорові слова, назви яких відповідають кольорам, у яких вони надруковані: наприклад, червоний , блакитний. У режимі нестандартних слів відображаються слова - кольорові слова, назви яких не відповідають кольорам, у яких вони надруковані: наприклад, Фіолетовий, помаранчевий. У кожному випадку ми вимірюємо час, який потрібен для того, щоб назвати кольори чорнила у списках однакового розміру. Кожен учасник пройде і запише час від кожної умови."
   ]
  },
  {
   "cell_type": "code",
   "execution_count": 1,
   "metadata": {},
   "outputs": [],
   "source": [
    "# Імпорт бібліотек\n",
    "import pandas as pd \n",
    "import matplotlib.pyplot as plt\n",
    "from scipy import stats\n",
    "import seaborn as sns"
   ]
  },
  {
   "cell_type": "code",
   "execution_count": 14,
   "metadata": {},
   "outputs": [
    {
     "data": {
      "text/html": [
       "<div>\n",
       "<style scoped>\n",
       "    .dataframe tbody tr th:only-of-type {\n",
       "        vertical-align: middle;\n",
       "    }\n",
       "\n",
       "    .dataframe tbody tr th {\n",
       "        vertical-align: top;\n",
       "    }\n",
       "\n",
       "    .dataframe thead th {\n",
       "        text-align: right;\n",
       "    }\n",
       "</style>\n",
       "<table border=\"1\" class=\"dataframe\">\n",
       "  <thead>\n",
       "    <tr style=\"text-align: right;\">\n",
       "      <th></th>\n",
       "      <th>Congruent</th>\n",
       "      <th>Incongruent</th>\n",
       "    </tr>\n",
       "  </thead>\n",
       "  <tbody>\n",
       "    <tr>\n",
       "      <th>0</th>\n",
       "      <td>12.079</td>\n",
       "      <td>19.278</td>\n",
       "    </tr>\n",
       "    <tr>\n",
       "      <th>1</th>\n",
       "      <td>16.791</td>\n",
       "      <td>18.741</td>\n",
       "    </tr>\n",
       "    <tr>\n",
       "      <th>2</th>\n",
       "      <td>9.564</td>\n",
       "      <td>21.214</td>\n",
       "    </tr>\n",
       "    <tr>\n",
       "      <th>3</th>\n",
       "      <td>8.630</td>\n",
       "      <td>15.687</td>\n",
       "    </tr>\n",
       "    <tr>\n",
       "      <th>4</th>\n",
       "      <td>14.669</td>\n",
       "      <td>22.803</td>\n",
       "    </tr>\n",
       "  </tbody>\n",
       "</table>\n",
       "</div>"
      ],
      "text/plain": [
       "   Congruent  Incongruent\n",
       "0     12.079       19.278\n",
       "1     16.791       18.741\n",
       "2      9.564       21.214\n",
       "3      8.630       15.687\n",
       "4     14.669       22.803"
      ]
     },
     "execution_count": 14,
     "metadata": {},
     "output_type": "execute_result"
    }
   ],
   "source": [
    "stroop_effect = pd.read_csv('D:\\бмд\\BMDlabs\\додаткове_завдання\\data.csv')\n",
    "stroop_effect.head()"
   ]
  },
  {
   "cell_type": "code",
   "execution_count": 3,
   "metadata": {},
   "outputs": [
    {
     "data": {
      "text/plain": [
       "[]"
      ]
     },
     "execution_count": 3,
     "metadata": {},
     "output_type": "execute_result"
    },
    {
     "data": {
      "image/png": "[encoded data removed]",
      "text/plain": [
       "<Figure size 432x288 with 1 Axes>"
      ]
     },
     "metadata": {
      "needs_background": "light"
     },
     "output_type": "display_data"
    }
   ],
   "source": [
    "sns.boxplot(data=stroop_effect, orient='h').set()"
   ]
  },
  {
   "cell_type": "code",
   "execution_count": 4,
   "metadata": {},
   "outputs": [
    {
     "data": {
      "text/html": [
       "<div>\n",
       "<style scoped>\n",
       "    .dataframe tbody tr th:only-of-type {\n",
       "        vertical-align: middle;\n",
       "    }\n",
       "\n",
       "    .dataframe tbody tr th {\n",
       "        vertical-align: top;\n",
       "    }\n",
       "\n",
       "    .dataframe thead th {\n",
       "        text-align: right;\n",
       "    }\n",
       "</style>\n",
       "<table border=\"1\" class=\"dataframe\">\n",
       "  <thead>\n",
       "    <tr style=\"text-align: right;\">\n",
       "      <th></th>\n",
       "      <th>Congruent</th>\n",
       "      <th>Incongruent</th>\n",
       "      <th>Differences</th>\n",
       "    </tr>\n",
       "  </thead>\n",
       "  <tbody>\n",
       "    <tr>\n",
       "      <th>0</th>\n",
       "      <td>12.079</td>\n",
       "      <td>19.278</td>\n",
       "      <td>-7.199</td>\n",
       "    </tr>\n",
       "    <tr>\n",
       "      <th>1</th>\n",
       "      <td>16.791</td>\n",
       "      <td>18.741</td>\n",
       "      <td>-1.950</td>\n",
       "    </tr>\n",
       "    <tr>\n",
       "      <th>2</th>\n",
       "      <td>9.564</td>\n",
       "      <td>21.214</td>\n",
       "      <td>-11.650</td>\n",
       "    </tr>\n",
       "    <tr>\n",
       "      <th>3</th>\n",
       "      <td>8.630</td>\n",
       "      <td>15.687</td>\n",
       "      <td>-7.057</td>\n",
       "    </tr>\n",
       "    <tr>\n",
       "      <th>4</th>\n",
       "      <td>14.669</td>\n",
       "      <td>22.803</td>\n",
       "      <td>-8.134</td>\n",
       "    </tr>\n",
       "  </tbody>\n",
       "</table>\n",
       "</div>"
      ],
      "text/plain": [
       "   Congruent  Incongruent  Differences\n",
       "0     12.079       19.278       -7.199\n",
       "1     16.791       18.741       -1.950\n",
       "2      9.564       21.214      -11.650\n",
       "3      8.630       15.687       -7.057\n",
       "4     14.669       22.803       -8.134"
      ]
     },
     "execution_count": 4,
     "metadata": {},
     "output_type": "execute_result"
    }
   ],
   "source": [
    "stroop_effect['Differences'] = stroop_effect['Congruent'] - stroop_effect['Incongruent']\n",
    "stroop_effect.head()"
   ]
  },
  {
   "cell_type": "code",
   "execution_count": 5,
   "metadata": {},
   "outputs": [
    {
     "name": "stdout",
     "output_type": "stream",
     "text": [
      "Результати випробувань Congruent становлять 14.05 як середнє значення зі стандартним відхиленням 3.56 для загального розміру вибірки 24.00\n",
      "Результати випробувань Incongruent мають середню величину 22.02 при стандартному відхиленні 4.80 для загального розміру вибірки 24.00\n"
     ]
    }
   ],
   "source": [
    "# calculate and display average, std and n for both samples and their difference\n",
    "con_avg = stroop_effect['Congruent'].mean()\n",
    "con_med = stroop_effect['Congruent'].median()\n",
    "con_S = stroop_effect['Congruent'].std()\n",
    "con_n = stroop_effect['Congruent'].count()\n",
    "incon_avg = stroop_effect['Incongruent'].mean()\n",
    "incon_med = stroop_effect['Incongruent'].median()\n",
    "incon_S = stroop_effect['Incongruent'].std()\n",
    "incon_n = stroop_effect['Incongruent'].count()\n",
    "diff_avg = stroop_effect['Differences'].mean()\n",
    "diff_med = stroop_effect['Differences'].median()\n",
    "diff_S = stroop_effect['Differences'].std()\n",
    "diff_n = stroop_effect['Differences'].count()\n",
    "print(\"Результати випробувань Congruent становлять %.2f як середнє значення зі стандартним відхиленням %.2f для загального розміру вибірки %.2f\" %(con_avg, con_S, con_n))\n",
    "print(\"Результати випробувань Incongruent мають середню величину %.2f при стандартному відхиленні %.2f для загального розміру вибірки %.2f\" %(incon_avg, incon_S, incon_n))"
   ]
  },
  {
   "cell_type": "code",
   "execution_count": 6,
   "metadata": {},
   "outputs": [
    {
     "data": {
      "text/html": [
       "<div>\n",
       "<style scoped>\n",
       "    .dataframe tbody tr th:only-of-type {\n",
       "        vertical-align: middle;\n",
       "    }\n",
       "\n",
       "    .dataframe tbody tr th {\n",
       "        vertical-align: top;\n",
       "    }\n",
       "\n",
       "    .dataframe thead th {\n",
       "        text-align: right;\n",
       "    }\n",
       "</style>\n",
       "<table border=\"1\" class=\"dataframe\">\n",
       "  <thead>\n",
       "    <tr style=\"text-align: right;\">\n",
       "      <th></th>\n",
       "      <th>Congruent</th>\n",
       "      <th>Incongruent</th>\n",
       "      <th>Differences</th>\n",
       "    </tr>\n",
       "  </thead>\n",
       "  <tbody>\n",
       "    <tr>\n",
       "      <th>count</th>\n",
       "      <td>24.000000</td>\n",
       "      <td>24.000000</td>\n",
       "      <td>24.000000</td>\n",
       "    </tr>\n",
       "    <tr>\n",
       "      <th>mean</th>\n",
       "      <td>14.051125</td>\n",
       "      <td>22.015917</td>\n",
       "      <td>-7.964792</td>\n",
       "    </tr>\n",
       "    <tr>\n",
       "      <th>std</th>\n",
       "      <td>3.559358</td>\n",
       "      <td>4.797057</td>\n",
       "      <td>4.864827</td>\n",
       "    </tr>\n",
       "    <tr>\n",
       "      <th>min</th>\n",
       "      <td>8.630000</td>\n",
       "      <td>15.687000</td>\n",
       "      <td>-21.919000</td>\n",
       "    </tr>\n",
       "    <tr>\n",
       "      <th>25%</th>\n",
       "      <td>11.895250</td>\n",
       "      <td>18.716750</td>\n",
       "      <td>-10.258500</td>\n",
       "    </tr>\n",
       "    <tr>\n",
       "      <th>50%</th>\n",
       "      <td>14.356500</td>\n",
       "      <td>21.017500</td>\n",
       "      <td>-7.666500</td>\n",
       "    </tr>\n",
       "    <tr>\n",
       "      <th>75%</th>\n",
       "      <td>16.200750</td>\n",
       "      <td>24.051500</td>\n",
       "      <td>-3.645500</td>\n",
       "    </tr>\n",
       "    <tr>\n",
       "      <th>max</th>\n",
       "      <td>22.328000</td>\n",
       "      <td>35.255000</td>\n",
       "      <td>-1.950000</td>\n",
       "    </tr>\n",
       "  </tbody>\n",
       "</table>\n",
       "</div>"
      ],
      "text/plain": [
       "       Congruent  Incongruent  Differences\n",
       "count  24.000000    24.000000    24.000000\n",
       "mean   14.051125    22.015917    -7.964792\n",
       "std     3.559358     4.797057     4.864827\n",
       "min     8.630000    15.687000   -21.919000\n",
       "25%    11.895250    18.716750   -10.258500\n",
       "50%    14.356500    21.017500    -7.666500\n",
       "75%    16.200750    24.051500    -3.645500\n",
       "max    22.328000    35.255000    -1.950000"
      ]
     },
     "execution_count": 6,
     "metadata": {},
     "output_type": "execute_result"
    }
   ],
   "source": [
    "statstable = pd.DataFrame(\n",
    "    {'1. Congruent' : pd.Series([con_n, con_avg, con_med, con_S], index=['Sample size', 'Mean', 'Median', 'Std']),\n",
    "     '2. Incongruent' : pd.Series([incon_n, incon_avg, incon_med, incon_S], index=['Sample size', 'Mean', 'Median', 'Std']),\n",
    "     '3. Differences' : pd.Series([diff_n, diff_avg, diff_med, diff_S], index=['Sample size', 'Mean', 'Median', 'Std'])})\n",
    "stroop_effect.describe()"
   ]
  },
  {
   "cell_type": "code",
   "execution_count": 7,
   "metadata": {},
   "outputs": [
    {
     "data": {
      "image/png": "[encoded data removed]",
      "text/plain": [
       "<Figure size 432x288 with 1 Axes>"
      ]
     },
     "metadata": {
      "needs_background": "light"
     },
     "output_type": "display_data"
    },
    {
     "name": "stdout",
     "output_type": "stream",
     "text": [
      "Тут ви бачите розподіл ймовірності різниці парних зразків. Видно, що велика кількість значень нижче нуля означає, що нестандартні завдання в цих зразках зайняли більше часу, ніж конгруентне завдання.\n"
     ]
    }
   ],
   "source": [
    "import matplotlib.mlab as mlab\n",
    "import scipy.stats as scs\n",
    "num_bins = 10\n",
    "plt.figure()\n",
    "\n",
    "# Display histogram and fit for the differences\n",
    "n, bins, patches = plt.hist(x=stroop_effect['Differences'], bins=num_bins, range=(-25,10), density=True, label='Differences')\n",
    "d = scs.norm.pdf(bins, diff_avg, diff_S)\n",
    "plt.plot(bins, d, 'r--', label='Diff fit')\n",
    "\n",
    "#legend, labels and title\n",
    "plt.legend(prop={'size': 12})\n",
    "plt.xlabel('Difference in seconds')\n",
    "plt.ylabel('Probability')\n",
    "plt.title('Histogram of difference in stroop task times')\n",
    "\n",
    "plt.show()\n",
    "print(\"Тут ви бачите розподіл ймовірності різниці парних зразків. Видно, що велика кількість значень нижче нуля означає, що нестандартні завдання в цих зразках зайняли більше часу, ніж конгруентне завдання.\")"
   ]
  },
  {
   "cell_type": "code",
   "execution_count": 8,
   "metadata": {},
   "outputs": [
    {
     "name": "stdout",
     "output_type": "stream",
     "text": [
      "Populating the interactive namespace from numpy and matplotlib\n"
     ]
    },
    {
     "data": {
      "image/png": "[encoded data removed]",
      "text/plain": [
       "<Figure size 432x288 with 1 Axes>"
      ]
     },
     "metadata": {
      "needs_background": "light"
     },
     "output_type": "display_data"
    },
    {
     "name": "stdout",
     "output_type": "stream",
     "text": [
      "Це являє собою розподіл загального часу на завдання. Більш темна область показує перекриття для конгруентних і невідповідних завдань.\n"
     ]
    }
   ],
   "source": [
    "%pylab inline\n",
    "\n",
    "num_bins = 10\n",
    "plt.figure()\n",
    "\n",
    "# Display histogram and fit for the congruent task\n",
    "n, bins, patches = plt.hist(x=stroop_effect['Congruent'], bins=num_bins, range=(0,40), density=True, label='Congruent', stacked=False, alpha=0.5)\n",
    "y = scs.norm.pdf(bins, con_avg, con_S)\n",
    "plt.plot(bins, y, 'b--', label='Con fit')\n",
    "\n",
    "# Display histogram and fit for the incongruent task\n",
    "n, bins, patches = plt.hist(x=stroop_effect['Incongruent'], bins=num_bins, range=(0,40), density=True, label='Incongruent', stacked=False, alpha=0.5)\n",
    "z = scs.norm.pdf(bins, incon_avg, incon_S)\n",
    "plt.plot(bins, z, 'g--', label='Incon fit')\n",
    "\n",
    "#legend, labels and title\n",
    "plt.legend(prop={'size': 12})\n",
    "plt.xlabel('Time in seconds')\n",
    "plt.ylabel('Probability')\n",
    "plt.title('Histogram of stroop task times')\n",
    "\n",
    "plt.show()\n",
    "plt.close()\n",
    "print(\"Це являє собою розподіл загального часу на завдання. Більш темна область показує перекриття для конгруентних і невідповідних завдань.\")"
   ]
  },
  {
   "cell_type": "code",
   "execution_count": 9,
   "metadata": {},
   "outputs": [
    {
     "data": {
      "image/png": "[encoded data removed]",
      "text/plain": [
       "<Figure size 432x288 with 1 Axes>"
      ]
     },
     "metadata": {
      "needs_background": "light"
     },
     "output_type": "display_data"
    }
   ],
   "source": [
    "from scipy import stats\n",
    "plt.figure()\n",
    "con_prob = stats.probplot(stroop_effect['Congruent'], plot=plt)\n",
    "\n",
    "plt.show()\n"
   ]
  },
  {
   "cell_type": "code",
   "execution_count": 10,
   "metadata": {},
   "outputs": [
    {
     "data": {
      "image/png": "[encoded data removed]",
      "text/plain": [
       "<Figure size 432x288 with 1 Axes>"
      ]
     },
     "metadata": {
      "needs_background": "light"
     },
     "output_type": "display_data"
    }
   ],
   "source": [
    "plt.figure()\n",
    "incon_prob = stats.probplot(stroop_effect['Incongruent'], plot=plt)\n",
    "\n",
    "plt.show()\n"
   ]
  },
  {
   "cell_type": "code",
   "execution_count": 11,
   "metadata": {},
   "outputs": [
    {
     "data": {
      "image/png": "[encoded data removed]",
      "text/plain": [
       "<Figure size 432x288 with 1 Axes>"
      ]
     },
     "metadata": {
      "needs_background": "light"
     },
     "output_type": "display_data"
    }
   ],
   "source": [
    "plt.figure()\n",
    "incon_prob = stats.probplot(stroop_effect['Differences'], plot=plt)\n",
    "\n",
    "plt.show()"
   ]
  },
  {
   "cell_type": "code",
   "execution_count": 12,
   "metadata": {},
   "outputs": [
    {
     "name": "stdout",
     "output_type": "stream",
     "text": [
      "t(23) = -8.0207, p < 0.001\n",
      "Критичне значення is -2.50\n",
      "Confidence interval on the mean difference\n",
      "99% CI = (-10.7522,-5.1774)\n"
     ]
    }
   ],
   "source": [
    "\n",
    "t_value = (con_avg - incon_avg) / (diff_S / math.sqrt(24))\n",
    "df = diff_n - 1\n",
    "t_critical = -2.5\n",
    "CI_lower = diff_avg - 2.807*(diff_S/math.sqrt(24))\n",
    "CI_upper = diff_avg + 2.807*(diff_S/math.sqrt(24))\n",
    "cohens_d = diff_avg / diff_S\n",
    "print(\"t(%s) = %.4f, p < 0.001\" %(df, t_value))\n",
    "print(\"Критичне значення is %.2f\" %(t_critical))\n",
    "print(\"Confidence interval on the mean difference\")\n",
    "print(\"99%% CI = (%.4f,%.4f)\" %(CI_lower, CI_upper))"
   ]
  },
  {
   "cell_type": "markdown",
   "metadata": {},
   "source": [
    "Рівень альфа .01 Був вибраний рівним критичному значенню -2,5. Все в критичній області має ймовірність р <0,01. У цьому випадку ми маємо t-stat -8.020.7, що нижче t-критичного значення і має ймовірність p <0,001.\n",
    "\n",
    "Виходячи з результатів, ми відкидаємо нульову гіпотезу і можемо сказати, що в негативному напрямці є статистично значущий ефект. Неконгруентні завдання займають більше часу, ніж конгруентні."
   ]
  },
  {
   "cell_type": "code",
   "execution_count": null,
   "metadata": {},
   "outputs": [],
   "source": []
  },
  {
   "cell_type": "code",
   "execution_count": null,
   "metadata": {},
   "outputs": [],
   "source": []
  },
  {
   "cell_type": "code",
   "execution_count": null,
   "metadata": {},
   "outputs": [],
   "source": []
  },
  {
   "cell_type": "code",
   "execution_count": null,
   "metadata": {},
   "outputs": [],
   "source": []
  },
  {
   "cell_type": "code",
   "execution_count": null,
   "metadata": {},
   "outputs": [],
   "source": []
  },
  {
   "cell_type": "code",
   "execution_count": null,
   "metadata": {},
   "outputs": [],
   "source": []
  },
  {
   "cell_type": "code",
   "execution_count": null,
   "metadata": {},
   "outputs": [],
   "source": []
  },
  {
   "cell_type": "code",
   "execution_count": null,
   "metadata": {},
   "outputs": [],
   "source": []
  },
  {
   "cell_type": "code",
   "execution_count": null,
   "metadata": {},
   "outputs": [],
   "source": []
  },
  {
   "cell_type": "code",
   "execution_count": null,
   "metadata": {},
   "outputs": [],
   "source": []
  },
  {
   "cell_type": "code",
   "execution_count": null,
   "metadata": {},
   "outputs": [],
   "source": []
  },
  {
   "cell_type": "code",
   "execution_count": null,
   "metadata": {},
   "outputs": [],
   "source": []
  },
  {
   "cell_type": "code",
   "execution_count": null,
   "metadata": {},
   "outputs": [],
   "source": []
  },
  {
   "cell_type": "code",
   "execution_count": null,
   "metadata": {},
   "outputs": [],
   "source": []
  }
 ],
 "metadata": {
  "kernelspec": {
   "display_name": "Python 3",
   "language": "python",
   "name": "python3"
  },
  "language_info": {
   "codemirror_mode": {
    "name": "ipython",
    "version": 3
   },
   "file_extension": ".py",
   "mimetype": "text/x-python",
   "name": "python",
   "nbconvert_exporter": "python",
   "pygments_lexer": "ipython3",
   "version": "3.7.6"
  }
 },
 "nbformat": 4,
 "nbformat_minor": 4
}
