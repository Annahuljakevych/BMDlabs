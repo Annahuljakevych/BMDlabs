{
 "cells": [
  {
   "cell_type": "markdown",
   "metadata": {},
   "source": [
    "### Обробка та аналіз БМД, лабораторна №7\n",
    "Гулякевич Анна БС-83 "
   ]
  },
  {
   "cell_type": "code",
   "execution_count": 1,
   "metadata": {},
   "outputs": [],
   "source": [
    "import scipy.stats as ss\n",
    "import numpy as np\n",
    "import pandas as pd\n",
    "import math\n",
    "import matplotlib.pyplot as plt\n",
    "import seaborn as sns"
   ]
  },
  {
   "cell_type": "code",
   "execution_count": 2,
   "metadata": {},
   "outputs": [
    {
     "data": {
      "text/html": [
       "<div>\n",
       "<style scoped>\n",
       "    .dataframe tbody tr th:only-of-type {\n",
       "        vertical-align: middle;\n",
       "    }\n",
       "\n",
       "    .dataframe tbody tr th {\n",
       "        vertical-align: top;\n",
       "    }\n",
       "\n",
       "    .dataframe thead th {\n",
       "        text-align: right;\n",
       "    }\n",
       "</style>\n",
       "<table border=\"1\" class=\"dataframe\">\n",
       "  <thead>\n",
       "    <tr style=\"text-align: right;\">\n",
       "      <th>Количество пропусков по группе за месяц</th>\n",
       "      <th>Март</th>\n",
       "      <th>Май</th>\n",
       "    </tr>\n",
       "    <tr>\n",
       "      <th>Дни</th>\n",
       "      <th></th>\n",
       "      <th></th>\n",
       "    </tr>\n",
       "  </thead>\n",
       "  <tbody>\n",
       "    <tr>\n",
       "      <th>1</th>\n",
       "      <td>10</td>\n",
       "      <td>1</td>\n",
       "    </tr>\n",
       "    <tr>\n",
       "      <th>2</th>\n",
       "      <td>5</td>\n",
       "      <td>12</td>\n",
       "    </tr>\n",
       "    <tr>\n",
       "      <th>3</th>\n",
       "      <td>2</td>\n",
       "      <td>16</td>\n",
       "    </tr>\n",
       "    <tr>\n",
       "      <th>4</th>\n",
       "      <td>6</td>\n",
       "      <td>14</td>\n",
       "    </tr>\n",
       "    <tr>\n",
       "      <th>5</th>\n",
       "      <td>5</td>\n",
       "      <td>12</td>\n",
       "    </tr>\n",
       "    <tr>\n",
       "      <th>6</th>\n",
       "      <td>2</td>\n",
       "      <td>15</td>\n",
       "    </tr>\n",
       "    <tr>\n",
       "      <th>7</th>\n",
       "      <td>1</td>\n",
       "      <td>13</td>\n",
       "    </tr>\n",
       "    <tr>\n",
       "      <th>8</th>\n",
       "      <td>13</td>\n",
       "      <td>17</td>\n",
       "    </tr>\n",
       "    <tr>\n",
       "      <th>9</th>\n",
       "      <td>7</td>\n",
       "      <td>17</td>\n",
       "    </tr>\n",
       "    <tr>\n",
       "      <th>10</th>\n",
       "      <td>3</td>\n",
       "      <td>6</td>\n",
       "    </tr>\n",
       "    <tr>\n",
       "      <th>11</th>\n",
       "      <td>10</td>\n",
       "      <td>11</td>\n",
       "    </tr>\n",
       "  </tbody>\n",
       "</table>\n",
       "</div>"
      ],
      "text/plain": [
       "Количество пропусков по группе за месяц  Март  Май\n",
       "Дни                                               \n",
       "1                                          10    1\n",
       "2                                           5   12\n",
       "3                                           2   16\n",
       "4                                           6   14\n",
       "5                                           5   12\n",
       "6                                           2   15\n",
       "7                                           1   13\n",
       "8                                          13   17\n",
       "9                                           7   17\n",
       "10                                          3    6\n",
       "11                                         10   11"
      ]
     },
     "execution_count": 2,
     "metadata": {},
     "output_type": "execute_result"
    }
   ],
   "source": [
    "table1=[]\n",
    "table1 = [10,5,2,6,5,2,1,13,7,3,10,]\n",
    "table2=[]\n",
    "table2 = [1,12,16,14,12,15,13,17,17,6,11]\n",
    "data = pd.DataFrame({\n",
    "    'Март': table1,\n",
    "    'Май': table2\n",
    "}, index=np.arange(1, len(table1)+1))\n",
    "data.columns.name = 'Количество пропусков по группе за месяц'\n",
    "data.index.name = 'Дни'\n",
    "data"
   ]
  },
  {
   "cell_type": "code",
   "execution_count": 3,
   "metadata": {},
   "outputs": [
    {
     "data": {
      "text/plain": [
       "[]"
      ]
     },
     "execution_count": 3,
     "metadata": {},
     "output_type": "execute_result"
    },
    {
     "data": {
      "image/png": "[encoded data removed]",
      "text/plain": [
       "<Figure size 432x288 with 1 Axes>"
      ]
     },
     "metadata": {
      "needs_background": "light"
     },
     "output_type": "display_data"
    }
   ],
   "source": [
    "sns.boxplot(data=data, orient='h').set()"
   ]
  },
  {
   "cell_type": "code",
   "execution_count": 4,
   "metadata": {},
   "outputs": [],
   "source": [
    "def get_sigma(array,n):\n",
    "    s=0\n",
    "    mean=(sum(array))/n\n",
    "    for i in range (n):\n",
    "        s+=((array[i]-mean))**2\n",
    "    return s/(n-1)\n",
    "def levene(x,y):\n",
    "    n=len(x)\n",
    "    m=len(y)\n",
    "    s1=get_sigma(x,n)\n",
    "    s2=get_sigma(y,m)\n",
    "    if s1>s2:\n",
    "        f=s1/s2\n",
    "    else:\n",
    "        f=s2/s1\n",
    "    print('Отримане значення критерію Лівеня : F = ' + str(f))\n",
    "    df1=n-1\n",
    "    df2=m-1\n",
    "    print('Значення ступенів свободи: df1 = ' + str(df1) + \"; df2 = \" + str(df2))\n",
    "    table = pd.read_excel(\"file:///D:\\бмд\\BMDlabs\\laba7\\Таблиця%20критичних%20значень%20для%20критерію%20Лівеня.xlsx\").iloc[df1,df2]\n",
    "    print(\"Критичне значення критерію Лівеня = \" + str(table))\n",
    "    if f<table:\n",
    "        result = \" результат оцінки значимості зв'зку - not significant\"\n",
    "    else:\n",
    "        result = \" результат оцінки значимості зв'зку -  significant\"\n",
    "    return result"
   ]
  },
  {
   "cell_type": "code",
   "execution_count": null,
   "metadata": {},
   "outputs": [],
   "source": []
  },
  {
   "cell_type": "code",
   "execution_count": null,
   "metadata": {},
   "outputs": [],
   "source": []
  },
  {
   "cell_type": "code",
   "execution_count": 5,
   "metadata": {},
   "outputs": [],
   "source": [
    "def student (x,y,flag):\n",
    "    if flag==\"significant\":\n",
    "        n=len(x)\n",
    "        m=len(y)\n",
    "        s1=get_sigma(x,n)\n",
    "        s2=get_sigma(y,m)\n",
    "        m1=sum(x)/n\n",
    "        m2=sum(y)/n\n",
    "        df=n+m-2\n",
    "        t=(abs(m1-m2))/(math.sqrt((s1/n)+(s2/m)))\n",
    "    elif flag==\"not significant\":\n",
    "        n=len(x)\n",
    "        m=len(y)\n",
    "        s1=sd(x,n)\n",
    "        s2=sd(y,m)\n",
    "        m1=sum(x)/n\n",
    "        m2=sum(y)/n\n",
    "        df1=n-1\n",
    "        df2=m-1\n",
    "        df=n+m-2\n",
    "        k=(1/n)+(1/m)\n",
    "        t=(abs(m1-m2))/(math.sqrt(((df1*s1+df2*s2)/df)*k))\n",
    "    else:\n",
    "        return \"You input the wrong flag\"\n",
    "    print('Отримане значення критерію Стьюдента: t = ' + str(t))\n",
    "    print('Значення ступеня свободи: df = ' + str(df))\n",
    "    table = pd.read_excel(\"file:///D:\\бмд\\BMDlabs\\laba7\\Таблиця%20критичних%20значень%20для%20критерію%20Стьюдента.xlsx\").iloc[df-1,1]\n",
    "    print(\"Критичне значення критерію Стьюдента = \" + str(table))\n",
    "    if t<table:\n",
    "        result = \" результат оцінки значимості зв'язку - significant\"\n",
    "    else:\n",
    "        result = \" результат оцінки значимості зв'зку -  not significant\"\n",
    "    return result"
   ]
  },
  {
   "cell_type": "code",
   "execution_count": 6,
   "metadata": {},
   "outputs": [
    {
     "name": "stdout",
     "output_type": "stream",
     "text": [
      "Отримане значення критерію Лівеня : F = 1.5880923450789795\n",
      "Значення ступенів свободи: df1 = 10; df2 = 10\n",
      "Критичне значення критерію Лівеня = 2.98\n"
     ]
    },
    {
     "data": {
      "text/plain": [
       "\" результат оцінки значимості зв'зку - not significant\""
      ]
     },
     "execution_count": 6,
     "metadata": {},
     "output_type": "execute_result"
    }
   ],
   "source": [
    "levene(table1,table2)"
   ]
  },
  {
   "cell_type": "code",
   "execution_count": 7,
   "metadata": {},
   "outputs": [
    {
     "name": "stdout",
     "output_type": "stream",
     "text": [
      "Отримане значення критерію Стьюдента: t = 3.3915110817805645\n",
      "Значення ступеня свободи: df = 20\n",
      "Критичне значення критерію Стьюдента = 2.086\n"
     ]
    },
    {
     "data": {
      "text/plain": [
       "\" результат оцінки значимості зв'зку -  not significant\""
      ]
     },
     "execution_count": 7,
     "metadata": {},
     "output_type": "execute_result"
    }
   ],
   "source": [
    "student(table1,table2,\"significant\")"
   ]
  },
  {
   "cell_type": "markdown",
   "metadata": {},
   "source": [
    "### Висновок"
   ]
  },
  {
   "cell_type": "markdown",
   "metadata": {},
   "source": [
    "#### 1.В даному випадку приймають нульову гіпотезу, оскільки розраховане значення менше критичного.Fкр > F"
   ]
  },
  {
   "cell_type": "markdown",
   "metadata": {},
   "source": [
    "#### 2.Розраховане значення t більше критичного - нульову гіпотезу відхиляють та роблять висновок про статистичну відмінність середніх."
   ]
  },
  {
   "cell_type": "code",
   "execution_count": null,
   "metadata": {},
   "outputs": [],
   "source": []
  },
  {
   "cell_type": "code",
   "execution_count": null,
   "metadata": {},
   "outputs": [],
   "source": []
  },
  {
   "cell_type": "code",
   "execution_count": null,
   "metadata": {},
   "outputs": [],
   "source": []
  },
  {
   "cell_type": "code",
   "execution_count": null,
   "metadata": {},
   "outputs": [],
   "source": []
  }
 ],
 "metadata": {
  "kernelspec": {
   "display_name": "Python 3",
   "language": "python",
   "name": "python3"
  },
  "language_info": {
   "codemirror_mode": {
    "name": "ipython",
    "version": 3
   },
   "file_extension": ".py",
   "mimetype": "text/x-python",
   "name": "python",
   "nbconvert_exporter": "python",
   "pygments_lexer": "ipython3",
   "version": "3.7.6"
  }
 },
 "nbformat": 4,
 "nbformat_minor": 4
}
