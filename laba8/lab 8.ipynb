{
 "cells": [
  {
   "cell_type": "markdown",
   "metadata": {},
   "source": [
    "### Обробка та аналіз БМД, лабораторна №8\n",
    "Гулякевич Анна БС-83"
   ]
  },
  {
   "cell_type": "markdown",
   "metadata": {},
   "source": [
    "# Завдання\n",
    "1) Розрахувати та вивести у вигляді таблиці статистичні характиристики даних (середні та стандартні відхилення для кожної з груп).\n",
    "2) Побудувати графік розкиду в групах.\n",
    "3) Побудувати функцію, що реалізовує однофакторний дисперсійний аналіз.\n",
    "4) Вивести результати розрахунку кожного з етапів вказаних вище у вигляді таблиці.\n",
    "5) Перевірити результат роботи функції на реальних або сгенерованих даних. Зробити висновок."
   ]
  },
  {
   "cell_type": "code",
   "execution_count": 1,
   "metadata": {},
   "outputs": [],
   "source": [
    "import scipy.stats as ss\n",
    "import numpy as np\n",
    "import pandas as pd\n",
    "import math\n",
    "import matplotlib.pyplot as plt\n",
    "import seaborn as sns"
   ]
  },
  {
   "cell_type": "markdown",
   "metadata": {},
   "source": [
    "Дослідження буде стосуватись кількості лабораторних досліджень трьох країн для винайденя вакцини проти вірусу по країнам на проміжку 4х місяців. "
   ]
  },
  {
   "cell_type": "code",
   "execution_count": 2,
   "metadata": {},
   "outputs": [
    {
     "data": {
      "text/html": [
       "<div>\n",
       "<style scoped>\n",
       "    .dataframe tbody tr th:only-of-type {\n",
       "        vertical-align: middle;\n",
       "    }\n",
       "\n",
       "    .dataframe tbody tr th {\n",
       "        vertical-align: top;\n",
       "    }\n",
       "\n",
       "    .dataframe thead th {\n",
       "        text-align: right;\n",
       "    }\n",
       "</style>\n",
       "<table border=\"1\" class=\"dataframe\">\n",
       "  <thead>\n",
       "    <tr style=\"text-align: right;\">\n",
       "      <th></th>\n",
       "      <th>Китай</th>\n",
       "      <th>Америка</th>\n",
       "      <th>Німеччина</th>\n",
       "    </tr>\n",
       "  </thead>\n",
       "  <tbody>\n",
       "    <tr>\n",
       "      <th>Січень</th>\n",
       "      <td>30</td>\n",
       "      <td>45</td>\n",
       "      <td>11</td>\n",
       "    </tr>\n",
       "    <tr>\n",
       "      <th>Лютий</th>\n",
       "      <td>20</td>\n",
       "      <td>70</td>\n",
       "      <td>14</td>\n",
       "    </tr>\n",
       "    <tr>\n",
       "      <th>Березень</th>\n",
       "      <td>21</td>\n",
       "      <td>10</td>\n",
       "      <td>22</td>\n",
       "    </tr>\n",
       "    <tr>\n",
       "      <th>Квітень</th>\n",
       "      <td>27</td>\n",
       "      <td>60</td>\n",
       "      <td>26</td>\n",
       "    </tr>\n",
       "  </tbody>\n",
       "</table>\n",
       "</div>"
      ],
      "text/plain": [
       "          Китай  Америка  Німеччина\n",
       "Січень       30       45         11\n",
       "Лютий        20       70         14\n",
       "Березень     21       10         22\n",
       "Квітень      27       60         26"
      ]
     },
     "execution_count": 2,
     "metadata": {},
     "output_type": "execute_result"
    }
   ],
   "source": [
    "col1 = [30, 20, 21, 27]\n",
    "col2 = [45, 70, 10, 60]\n",
    "col3 = [11, 14, 22, 26]\n",
    "col = [\"Січень\", \"Лютий\", \"Березень\", \"Квітень\"]\n",
    "data = pd.DataFrame({\"Китай\": col1, \"Америка\": col2, \"Німеччина\": col3}, index = col)\n",
    "data"
   ]
  },
  {
   "cell_type": "code",
   "execution_count": 3,
   "metadata": {},
   "outputs": [
    {
     "data": {
      "text/html": [
       "<div>\n",
       "<style scoped>\n",
       "    .dataframe tbody tr th:only-of-type {\n",
       "        vertical-align: middle;\n",
       "    }\n",
       "\n",
       "    .dataframe tbody tr th {\n",
       "        vertical-align: top;\n",
       "    }\n",
       "\n",
       "    .dataframe thead th {\n",
       "        text-align: right;\n",
       "    }\n",
       "</style>\n",
       "<table border=\"1\" class=\"dataframe\">\n",
       "  <thead>\n",
       "    <tr style=\"text-align: right;\">\n",
       "      <th></th>\n",
       "      <th>Китай</th>\n",
       "      <th>Америка</th>\n",
       "      <th>Німеччина</th>\n",
       "    </tr>\n",
       "  </thead>\n",
       "  <tbody>\n",
       "    <tr>\n",
       "      <th>Січень</th>\n",
       "      <td>30.0</td>\n",
       "      <td>45.00</td>\n",
       "      <td>11.00</td>\n",
       "    </tr>\n",
       "    <tr>\n",
       "      <th>Лютий</th>\n",
       "      <td>20.0</td>\n",
       "      <td>70.00</td>\n",
       "      <td>14.00</td>\n",
       "    </tr>\n",
       "    <tr>\n",
       "      <th>Березень</th>\n",
       "      <td>21.0</td>\n",
       "      <td>10.00</td>\n",
       "      <td>22.00</td>\n",
       "    </tr>\n",
       "    <tr>\n",
       "      <th>Квітень</th>\n",
       "      <td>27.0</td>\n",
       "      <td>60.00</td>\n",
       "      <td>26.00</td>\n",
       "    </tr>\n",
       "    <tr>\n",
       "      <th>Середнє:</th>\n",
       "      <td>24.5</td>\n",
       "      <td>46.25</td>\n",
       "      <td>18.25</td>\n",
       "    </tr>\n",
       "    <tr>\n",
       "      <th>Стандартне відхилення:</th>\n",
       "      <td>4.8</td>\n",
       "      <td>26.26</td>\n",
       "      <td>6.95</td>\n",
       "    </tr>\n",
       "  </tbody>\n",
       "</table>\n",
       "</div>"
      ],
      "text/plain": [
       "                        Китай  Америка  Німеччина\n",
       "Січень                   30.0    45.00      11.00\n",
       "Лютий                    20.0    70.00      14.00\n",
       "Березень                 21.0    10.00      22.00\n",
       "Квітень                  27.0    60.00      26.00\n",
       "Середнє:                 24.5    46.25      18.25\n",
       "Стандартне відхилення:    4.8    26.26       6.95"
      ]
     },
     "execution_count": 3,
     "metadata": {},
     "output_type": "execute_result"
    }
   ],
   "source": [
    "av1 = round((data['Китай'].mean()), 2)\n",
    "av2 = round((data['Америка'].mean()), 2)\n",
    "av3 = round((data['Німеччина'].mean()), 2)\n",
    "sd1 = round((data['Китай'].std()), 2)\n",
    "sd2 = round((data['Америка'].std()), 2)\n",
    "sd3 = round((data['Німеччина'].std()), 2)\n",
    "\n",
    "df = pd.DataFrame({\"Китай\": col1, \"Америка\": col2, \"Німеччина\": col3}, index = col)\n",
    "df.loc[\"Середнє:\"] = [av1, av2, av3]\n",
    "df.loc[\"Стандартне відхилення:\"] = [sd1,sd2,sd3]\n",
    "df"
   ]
  },
  {
   "cell_type": "markdown",
   "metadata": {},
   "source": [
    "Побудувати графік розкиду в групах"
   ]
  },
  {
   "cell_type": "code",
   "execution_count": 4,
   "metadata": {},
   "outputs": [
    {
     "data": {
      "text/plain": [
       "[]"
      ]
     },
     "execution_count": 4,
     "metadata": {},
     "output_type": "execute_result"
    },
    {
     "data": {
      "image/png": "[encoded data removed]",
      "text/plain": [
       "<Figure size 432x288 with 1 Axes>"
      ]
     },
     "metadata": {
      "needs_background": "light"
     },
     "output_type": "display_data"
    }
   ],
   "source": [
    "sns.boxplot(data=data, orient='h').set()"
   ]
  },
  {
   "cell_type": "markdown",
   "metadata": {},
   "source": [
    "Побудувати функцію, що реалізовує однофакторний дисперсійний аналіз."
   ]
  },
  {
   "cell_type": "code",
   "execution_count": 5,
   "metadata": {},
   "outputs": [],
   "source": [
    "def Dispersion(data):\n",
    "    c = len(data.iloc[0,:])\n",
    "    n = data.shape[0]\n",
    "    Tc = 0\n",
    "    Tc2 = 0\n",
    "    sum1 = 0\n",
    "    for i in range(c):\n",
    "        Tc = data.iloc[:, i].sum()\n",
    "        sum1 += Tc\n",
    "        Tc2 += (Tc)**2\n",
    "    N = n*3\n",
    "    sum1 = sum1**2\n",
    "    sum2 = 0\n",
    "    \n",
    "    for i in range (c):\n",
    "        for j in range(len(data.iloc[:, i-1])):\n",
    "            sum2 += (data.iloc[j][i])**2\n",
    "\n",
    "    const = sum1 / N\n",
    "    \n",
    "    SSfact = Tc2/n - const\n",
    "    SSzag = sum2 - const\n",
    "    SSvyp = SSzag - SSfact\n",
    "    \n",
    "    dfact = c - 1\n",
    "    dzag = N - 1\n",
    "    dvyp = dzag - dfact\n",
    "    \n",
    "    MSfact = SSfact / dfact\n",
    "    MSvyp = SSvyp / dvyp\n",
    "\n",
    "    Fempir = MSfact / MSvyp\n",
    "\n",
    "    \n",
    "    if((dvyp >= 24) and (dvyp < 26)):\n",
    "        dvyp = 24\n",
    "    elif((dvyp >= 26) and (dvyp < 28)):\n",
    "        dvyp = 26\n",
    "    elif((dvyp >= 28) and (dvyp < 30)):\n",
    "        dvyp = 28\n",
    "    elif((dvyp >= 30) and (dvyp < 40)):\n",
    "        dvyp = 30\n",
    "    elif((dvyp >= 40) and (dvyp < 60)):\n",
    "        dvyp = 40\n",
    "    elif((dvyp >= 60) and (dvyp <= 120)):\n",
    "        dvyp = 60\n",
    "    elif((dvyp >=  120) and (dvyp <=  130)):\n",
    "        dvyp = 120\n",
    "    elif(dvyp > 130):\n",
    "        dvyp = \">130\"\n",
    "    \n",
    "    if((n >= 10) and (n < 15)):\n",
    "        dfact  = 10\n",
    "    elif((n >= 15) and (n < 20)):\n",
    "        dfact  = 15\n",
    "    elif((n >= 20) and (n < 30)):\n",
    "        dfact  = 20\n",
    "    elif((n >= 30) and (n <= 40)):\n",
    "        dfact  = 30\n",
    "    elif(n > 40):\n",
    "        dfact  = \">40\"\n",
    "    critical_table = pd.read_excel('D:\\бмд\\BMDlabs\\laba 8\\таблица1.xlsx', index_col = 0)\n",
    "    critical_table = critical_table[dvyp][dfact]\n",
    "    if(Fempir >= critical_table):\n",
    "        result = \"Нульова гіпотеза про рівність середніх відхиляється, рівність середніх не підтверджена\"\n",
    "    else:\n",
    "        result = \"Нульова гіпотеза про рівність середніх приймається, рівність середніх підтверджена\"\n",
    "    table = pd.DataFrame({\n",
    "        \"Характеристика\" : ['Внутрішньогрупова дисперсія ($SS_{факт}$)','Загальногрупова дисперсія ($SS_{заг}$)', 'Випадкова (залишкова) величина $SS_{вип}$',\n",
    "                           'Kількість ступенів свободи: $d_{факт} = c - 1:$' ,'Kількість ступенів свободи: $d_{заг} = N - 1 :$' , 'Kількість ступенів свободи: $d_{вип}$', '$MS_{факт}: $', '$MS_{вип}: $',\n",
    "                           'Значення $F_{емпір}$: ','Kритичне значення $F_{крит}$:', \"Результат\"],\n",
    "        \"Обчислене значення\" : [ str(round(SSfact,2)) , str(round(SSzag,2)) ,str(round(SSvyp,2)),str(dfact),str(dzag), str(dvyp), str(round(MSfact,2)),str(round(MSvyp,2)),str(round(Fempir,2)), str(critical_table), result]\n",
    "    }) \n",
    "    return table"
   ]
  },
  {
   "cell_type": "markdown",
   "metadata": {},
   "source": [
    "Вивести результати розрахунку кожного з етапів вказаних вище у вигляді таблиці."
   ]
  },
  {
   "cell_type": "code",
   "execution_count": 6,
   "metadata": {},
   "outputs": [
    {
     "data": {
      "text/html": [
       "<div>\n",
       "<style scoped>\n",
       "    .dataframe tbody tr th:only-of-type {\n",
       "        vertical-align: middle;\n",
       "    }\n",
       "\n",
       "    .dataframe tbody tr th {\n",
       "        vertical-align: top;\n",
       "    }\n",
       "\n",
       "    .dataframe thead th {\n",
       "        text-align: right;\n",
       "    }\n",
       "</style>\n",
       "<table border=\"1\" class=\"dataframe\">\n",
       "  <thead>\n",
       "    <tr style=\"text-align: right;\">\n",
       "      <th></th>\n",
       "      <th>Характеристика</th>\n",
       "      <th>Обчислене значення</th>\n",
       "    </tr>\n",
       "  </thead>\n",
       "  <tbody>\n",
       "    <tr>\n",
       "      <th>0</th>\n",
       "      <td>Внутрішньогрупова дисперсія ($SS_{факт}$)</td>\n",
       "      <td>1728.17</td>\n",
       "    </tr>\n",
       "    <tr>\n",
       "      <th>1</th>\n",
       "      <td>Загальногрупова дисперсія ($SS_{заг}$)</td>\n",
       "      <td>4010.67</td>\n",
       "    </tr>\n",
       "    <tr>\n",
       "      <th>2</th>\n",
       "      <td>Випадкова (залишкова) величина $SS_{вип}$</td>\n",
       "      <td>2282.5</td>\n",
       "    </tr>\n",
       "    <tr>\n",
       "      <th>3</th>\n",
       "      <td>Kількість ступенів свободи: $d_{факт} = c - 1:$</td>\n",
       "      <td>2</td>\n",
       "    </tr>\n",
       "    <tr>\n",
       "      <th>4</th>\n",
       "      <td>Kількість ступенів свободи: $d_{заг} = N - 1 :$</td>\n",
       "      <td>11</td>\n",
       "    </tr>\n",
       "    <tr>\n",
       "      <th>5</th>\n",
       "      <td>Kількість ступенів свободи: $d_{вип}$</td>\n",
       "      <td>9</td>\n",
       "    </tr>\n",
       "    <tr>\n",
       "      <th>6</th>\n",
       "      <td>$MS_{факт}: $</td>\n",
       "      <td>864.08</td>\n",
       "    </tr>\n",
       "    <tr>\n",
       "      <th>7</th>\n",
       "      <td>$MS_{вип}: $</td>\n",
       "      <td>253.61</td>\n",
       "    </tr>\n",
       "    <tr>\n",
       "      <th>8</th>\n",
       "      <td>Значення $F_{емпір}$:</td>\n",
       "      <td>3.41</td>\n",
       "    </tr>\n",
       "    <tr>\n",
       "      <th>9</th>\n",
       "      <td>Kритичне значення $F_{крит}$:</td>\n",
       "      <td>19.38</td>\n",
       "    </tr>\n",
       "    <tr>\n",
       "      <th>10</th>\n",
       "      <td>Результат</td>\n",
       "      <td>Нульова гіпотеза про рівність середніх приймає...</td>\n",
       "    </tr>\n",
       "  </tbody>\n",
       "</table>\n",
       "</div>"
      ],
      "text/plain": [
       "                                     Характеристика  \\\n",
       "0         Внутрішньогрупова дисперсія ($SS_{факт}$)   \n",
       "1            Загальногрупова дисперсія ($SS_{заг}$)   \n",
       "2         Випадкова (залишкова) величина $SS_{вип}$   \n",
       "3   Kількість ступенів свободи: $d_{факт} = c - 1:$   \n",
       "4   Kількість ступенів свободи: $d_{заг} = N - 1 :$   \n",
       "5             Kількість ступенів свободи: $d_{вип}$   \n",
       "6                                     $MS_{факт}: $   \n",
       "7                                      $MS_{вип}: $   \n",
       "8                            Значення $F_{емпір}$:    \n",
       "9                     Kритичне значення $F_{крит}$:   \n",
       "10                                        Результат   \n",
       "\n",
       "                                   Обчислене значення  \n",
       "0                                             1728.17  \n",
       "1                                             4010.67  \n",
       "2                                              2282.5  \n",
       "3                                                   2  \n",
       "4                                                  11  \n",
       "5                                                   9  \n",
       "6                                              864.08  \n",
       "7                                              253.61  \n",
       "8                                                3.41  \n",
       "9                                               19.38  \n",
       "10  Нульова гіпотеза про рівність середніх приймає...  "
      ]
     },
     "execution_count": 6,
     "metadata": {},
     "output_type": "execute_result"
    }
   ],
   "source": [
    "Dispersion(data)"
   ]
  },
  {
   "cell_type": "markdown",
   "metadata": {},
   "source": [
    "Зробити висновок."
   ]
  },
  {
   "cell_type": "markdown",
   "metadata": {},
   "source": [
    "\n",
    "Висновок: Під час проведення дисперсійного аналізу був отриманий результат 𝐹емпіричне < 𝐹критичне , що свідчить про те що нульову гіпотезу про рівність середніх ми приймаємо."
   ]
  },
  {
   "cell_type": "code",
   "execution_count": null,
   "metadata": {},
   "outputs": [],
   "source": []
  },
  {
   "cell_type": "code",
   "execution_count": null,
   "metadata": {},
   "outputs": [],
   "source": []
  },
  {
   "cell_type": "code",
   "execution_count": null,
   "metadata": {},
   "outputs": [],
   "source": []
  },
  {
   "cell_type": "code",
   "execution_count": null,
   "metadata": {},
   "outputs": [],
   "source": []
  },
  {
   "cell_type": "code",
   "execution_count": null,
   "metadata": {},
   "outputs": [],
   "source": []
  },
  {
   "cell_type": "code",
   "execution_count": null,
   "metadata": {},
   "outputs": [],
   "source": []
  },
  {
   "cell_type": "code",
   "execution_count": null,
   "metadata": {},
   "outputs": [],
   "source": []
  },
  {
   "cell_type": "code",
   "execution_count": null,
   "metadata": {},
   "outputs": [],
   "source": []
  },
  {
   "cell_type": "code",
   "execution_count": null,
   "metadata": {},
   "outputs": [],
   "source": []
  },
  {
   "cell_type": "code",
   "execution_count": null,
   "metadata": {},
   "outputs": [],
   "source": []
  },
  {
   "cell_type": "code",
   "execution_count": null,
   "metadata": {},
   "outputs": [],
   "source": []
  },
  {
   "cell_type": "code",
   "execution_count": null,
   "metadata": {},
   "outputs": [],
   "source": []
  },
  {
   "cell_type": "code",
   "execution_count": null,
   "metadata": {},
   "outputs": [],
   "source": []
  },
  {
   "cell_type": "code",
   "execution_count": null,
   "metadata": {},
   "outputs": [],
   "source": []
  },
  {
   "cell_type": "code",
   "execution_count": null,
   "metadata": {},
   "outputs": [],
   "source": []
  },
  {
   "cell_type": "code",
   "execution_count": null,
   "metadata": {},
   "outputs": [],
   "source": []
  },
  {
   "cell_type": "code",
   "execution_count": null,
   "metadata": {},
   "outputs": [],
   "source": []
  },
  {
   "cell_type": "code",
   "execution_count": null,
   "metadata": {},
   "outputs": [],
   "source": []
  },
  {
   "cell_type": "code",
   "execution_count": null,
   "metadata": {},
   "outputs": [],
   "source": []
  },
  {
   "cell_type": "code",
   "execution_count": null,
   "metadata": {},
   "outputs": [],
   "source": []
  },
  {
   "cell_type": "code",
   "execution_count": null,
   "metadata": {},
   "outputs": [],
   "source": []
  },
  {
   "cell_type": "code",
   "execution_count": null,
   "metadata": {},
   "outputs": [],
   "source": []
  },
  {
   "cell_type": "code",
   "execution_count": null,
   "metadata": {},
   "outputs": [],
   "source": []
  },
  {
   "cell_type": "code",
   "execution_count": null,
   "metadata": {},
   "outputs": [],
   "source": []
  },
  {
   "cell_type": "code",
   "execution_count": null,
   "metadata": {},
   "outputs": [],
   "source": []
  },
  {
   "cell_type": "code",
   "execution_count": null,
   "metadata": {},
   "outputs": [],
   "source": []
  },
  {
   "cell_type": "code",
   "execution_count": null,
   "metadata": {},
   "outputs": [],
   "source": []
  },
  {
   "cell_type": "code",
   "execution_count": null,
   "metadata": {},
   "outputs": [],
   "source": []
  },
  {
   "cell_type": "code",
   "execution_count": null,
   "metadata": {},
   "outputs": [],
   "source": []
  },
  {
   "cell_type": "code",
   "execution_count": null,
   "metadata": {},
   "outputs": [],
   "source": []
  },
  {
   "cell_type": "code",
   "execution_count": null,
   "metadata": {},
   "outputs": [],
   "source": []
  },
  {
   "cell_type": "code",
   "execution_count": null,
   "metadata": {},
   "outputs": [],
   "source": []
  },
  {
   "cell_type": "code",
   "execution_count": null,
   "metadata": {},
   "outputs": [],
   "source": []
  },
  {
   "cell_type": "code",
   "execution_count": null,
   "metadata": {},
   "outputs": [],
   "source": []
  },
  {
   "cell_type": "code",
   "execution_count": null,
   "metadata": {},
   "outputs": [],
   "source": []
  },
  {
   "cell_type": "code",
   "execution_count": null,
   "metadata": {},
   "outputs": [],
   "source": []
  },
  {
   "cell_type": "code",
   "execution_count": null,
   "metadata": {},
   "outputs": [],
   "source": []
  },
  {
   "cell_type": "code",
   "execution_count": null,
   "metadata": {},
   "outputs": [],
   "source": []
  },
  {
   "cell_type": "code",
   "execution_count": null,
   "metadata": {},
   "outputs": [],
   "source": []
  }
 ],
 "metadata": {
  "kernelspec": {
   "display_name": "Python 3",
   "language": "python",
   "name": "python3"
  },
  "language_info": {
   "codemirror_mode": {
    "name": "ipython",
    "version": 3
   },
   "file_extension": ".py",
   "mimetype": "text/x-python",
   "name": "python",
   "nbconvert_exporter": "python",
   "pygments_lexer": "ipython3",
   "version": "3.7.6"
  }
 },
 "nbformat": 4,
 "nbformat_minor": 4
}
